{
 "cells": [
  {
   "cell_type": "markdown",
   "metadata": {},
   "source": [
    "# <font color=blue>Multi-Armed Bandit explained through a movie recommendation system</font>"
   ]
  },
  {
   "cell_type": "markdown",
   "metadata": {},
   "source": [
    "## <font color=green>1. Stochastic Bandits: ETC, and UCB (+ variants)<\\font>\n",
    "\n",
    "- Assume that there are $k = 10$  movies (arms) that can be recommended. \n",
    "- Assume that the recommendation is performed $n = 1000$ times (horizon). In the first (and simple setting), let us assume that there is only one user. \n",
    "\n",
    "### In the stochastic MAB bandit scenario, we need to define the rewards as being drawn from some probability distribution.\n",
    "\n",
    "#### What this means is that for the given user, the \"reward\" is stochastic. \n",
    "- Assume that the rewards are Gaussian with means $\\mu_1 = 0$, and $\\mu_i = \\frac{-2}{k}$ for all $i > 1$.\n",
    "    - A better assumption is to assume Bernoulli distribution\n",
    "- Assume that $P_{i} \\overset{\\text{i.i.d}}{\\sim} \\mathcal{N}(\\mu_i, 1)$.\n",
    "\n",
    "#### Recall that the regret is defined as \n",
    "\\begin{align}\n",
    "R_n = n \\mu_1 - \\mathbb{E}\\left[ \\sum_{t=1}^n X_t \\right]\n",
    "\\end{align}"
   ]
  },
  {
   "cell_type": "code",
   "execution_count": null,
   "metadata": {},
   "outputs": [],
   "source": []
  }
 ],
 "metadata": {
  "kernelspec": {
   "display_name": "Python 3",
   "language": "python",
   "name": "python3"
  },
  "language_info": {
   "codemirror_mode": {
    "name": "ipython",
    "version": 3
   },
   "file_extension": ".py",
   "mimetype": "text/x-python",
   "name": "python",
   "nbconvert_exporter": "python",
   "pygments_lexer": "ipython3",
   "version": "3.7.4"
  }
 },
 "nbformat": 4,
 "nbformat_minor": 4
}
