{
 "cells": [
  {
   "cell_type": "markdown",
   "metadata": {},
   "source": [
    "# Multi-Armed Bandit explained through a movie recommendation system"
   ]
  },
  {
   "cell_type": "markdown",
   "metadata": {},
   "source": [
    "## Stochastic Bandits: \n",
    "\n",
    "- Assume that there are $k = 10$  movies (arms) that can be recommended. \n",
    "- Assume that the recommendation is performed $n = 1000$ times (horizon). In the first (and simple setting), let us assume that there is only one user. \n",
    "\n",
    "### In the stochastic MAB bandit scenario, we need to define the rewards as being drawn from some probability distribution.\n",
    "\n",
    "#### What this means is that for the given user, the \"reward\" is stochastic. \n",
    "- Assume that the rewards are Gaussian with means $\\mu_1 = 0$, and $\\mu_i = \\frac{-2}{k}$ for all $i > 1$.\n",
    "    - A better assumption is to assume Bernoulli distribution to model \"clicks\", but we use a Gaussian for simplicity\n",
    "- Thus, we have $P_{i} \\overset{\\text{i.i.d.}}{\\sim} \\mathcal{N}(\\mu_i, 1)$.\n",
    "\n",
    "#### Recall: the regret is \n",
    "\\begin{align}\n",
    "R_n = n \\mu_1 - \\mathbb{E}\\left[ \\sum_{t=1}^n X_t \\right]\n",
    "\\end{align}\n",
    "\n",
    "#### 1. Explore-then-commit\n",
    "- This algorithm requires a parameter $m$, that controls how many times each arm is explored\n",
    "- The optimal choice for $k=2$ is $m = \\left\\lceil \\frac{4}{\\Delta^2} \\log \\left(\\frac{n \\Delta^2}{4} \\right) \\right\\rceil$"
   ]
  },
  {
   "cell_type": "code",
   "execution_count": 80,
   "metadata": {},
   "outputs": [],
   "source": [
    "import numpy as np\n",
    "import math\n",
    "import matplotlib.pyplot as plt"
   ]
  },
  {
   "cell_type": "code",
   "execution_count": 127,
   "metadata": {},
   "outputs": [
    {
     "name": "stdout",
     "output_type": "stream",
     "text": [
      "23\n"
     ]
    }
   ],
   "source": [
    "##initialize model parameters\n",
    "num_bandits = 2\n",
    "delta = -2/num_bandits\n",
    "means = np.concatenate((0, np.ones(num_bandits-1)* delta), axis=None)\n",
    "variances = np.ones(num_bandits)\n",
    "horizon = 1000\n",
    "mc_iter = 50\n",
    "\n",
    "##explore-then-commit parameters\n",
    "opt_exp_flag = 1\n",
    "\n",
    "if(opt_exp_flag == 1):\n",
    "    explore_size = math.ceil(4/delta ** 2 * np.log(horizon * delta ** 2/4))\n",
    "else:\n",
    "    explore_size = 50\n",
    "\n",
    "print(explore_size)\n",
    "cumulative_reward = 0\n",
    "cumulative_regret = 0\n",
    "rewards = np.zeros((mc_iter, horizon))\n",
    "regrets = np.zeros((mc_iter, horizon))\n",
    "\n",
    "estimated_sums = np.zeros(num_bandits)\n",
    "estimated_counts = np.zeros(num_bandits)\n",
    "actions = np.zeros(horizon)\n",
    "\n",
    "##run the elgorithm\n",
    "for ii in range(mc_iter):\n",
    "    for t_idx in range(horizon):\n",
    "        if (t_idx <= explore_size * num_bandits):\n",
    "            actions[t_idx] = int(t_idx % num_bandits) \n",
    "            current_reward = means[int(actions[t_idx])] + np.sqrt(variances[int(actions[t_idx])]) * np.random.randn(1)\n",
    "            estimated_counts[int(actions[t_idx])] += 1 \n",
    "            estimated_sums[int(actions[t_idx])] += current_reward\n",
    "\n",
    "        else:\n",
    "            estimated_means = estimated_sums / estimated_counts\n",
    "            actions[t_idx] = np.argmax(estimated_means)\n",
    "            current_reward = means[int(actions[t_idx])] + np.sqrt(variances[int(actions[t_idx])]) * np.random.randn(1)\n",
    "            \n",
    "        current_regret = means[0] -current_reward\n",
    "        cumulative_reward += current_reward\n",
    "        cumulative_regret += current_regret\n",
    "        rewards[ii, t_idx] = current_reward\n",
    "        regrets[ii, t_idx] = current_regret\n",
    "\n",
    "expected_rewards = np.mean(rewards, axis=0)\n",
    "expected_regrets = np.mean(regrets, axis=0)"
   ]
  },
  {
   "cell_type": "code",
   "execution_count": 128,
   "metadata": {},
   "outputs": [
    {
     "data": {
      "image/png": "[encoded data removed]",
      "text/plain": [
       "<Figure size 432x288 with 1 Axes>"
      ]
     },
     "metadata": {
      "needs_background": "light"
     },
     "output_type": "display_data"
    }
   ],
   "source": [
    "plt.figure()\n",
    "plt.plot(np.cumsum(expected_regrets), 'r')\n",
    "plt.plot(np.sqrt(range(horizon)), 'k')\n",
    "plt.xlabel('time')\n",
    "plt.ylabel('regret_t')\n",
    "plt.show()"
   ]
  },
  {
   "cell_type": "markdown",
   "metadata": {},
   "source": [
    "### Conclusions of ETC\n",
    "- Notice that the regret scales \"approximately\" as $\\sqrt{t}$\n",
    "- For $k > 2$, the algorithm is indeed unstable, and it is hard to obtain $\\sqrt{n}$ bounds in all cases. Additionally, the optimal choice $m$ assumes knowledge of model parameters, can technically use elimination algorithm to make this data-dependent to obtain better results. might try it out later.\n",
    "- the version implemented here is not an anytime algorithm -- can be rectified using \"doubling trick\"."
   ]
  },
  {
   "cell_type": "markdown",
   "metadata": {},
   "source": [
    "## 2. Upper Confidence Bound\n",
    "- As we saw in Lectures 1,2, we need a better algorithm for $k > 2$.\n",
    "- Thus, we look at the UCB algorithm\n",
    "- Recall that one parameter for UCB is the confidence interval, $\\delta$. We will explore different choices in the next section."
   ]
  }
 ],
 "metadata": {
  "kernelspec": {
   "display_name": "Python 3",
   "language": "python",
   "name": "python3"
  },
  "language_info": {
   "codemirror_mode": {
    "name": "ipython",
    "version": 3
   },
   "file_extension": ".py",
   "mimetype": "text/x-python",
   "name": "python",
   "nbconvert_exporter": "python",
   "pygments_lexer": "ipython3",
   "version": "3.7.4"
  }
 },
 "nbformat": 4,
 "nbformat_minor": 4
}
